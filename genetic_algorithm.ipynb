{
 "cells": [
  {
   "cell_type": "code",
   "execution_count": 1,
   "metadata": {},
   "outputs": [],
   "source": [
    "from bitstring import *\n",
    "import random\n",
    "from collections import Counter\n",
    "from itertools import chain\n",
    "import sys"
   ]
  },
  {
   "cell_type": "code",
   "execution_count": 4,
   "metadata": {},
   "outputs": [],
   "source": [
    "def random_num():\n",
    "    random.seed()\n",
    "    return random.randrange(2**14) ## for fitting in 14 bits. \n",
    "    "
   ]
  },
  {
   "cell_type": "code",
   "execution_count": 5,
   "metadata": {},
   "outputs": [],
   "source": [
    "def generate_candidate_sols(n): \n",
    "    '''\n",
    "        retrun a list of n candidate solutions (each a 56 bit string)\n",
    "        functionality: generate 4 bitstrings of length 14 bits and then merge them to get 56 bit Strings\n",
    "        \n",
    "    '''\n",
    "    if (n > 0):\n",
    "        bslist = [ConstBitStream(uint=random_num(), length=14) for n in range(4)] \n",
    "        candidate_sol = ConstBitStream('0').join(bslist)\n",
    "        return [candidate_sol] + generate_candidate_sols(n - 1)\n",
    "                \n",
    "    return []"
   ]
  },
  {
   "cell_type": "code",
   "execution_count": 28,
   "metadata": {},
   "outputs": [],
   "source": [
    "def get_matching_bit_pairs(_Holy_BitString, _candidate_sol):\n",
    "    _Holy_BitString.pos = 0\n",
    "    _candidate_sol.pos = 0\n",
    "    \n",
    "    matching_bit_pairs = 0\n",
    "    global TERMINATE\n",
    "    try:\n",
    "        if not TERMINATE:\n",
    "            while (_Holy_BitString.read(2).bin == _candidate_sol.read(2).bin ):\n",
    "                matching_bit_pairs = matching_bit_pairs + 1\n",
    "            if (SHOW_FITNESS):\n",
    "                print('Fitness: ', round((matching_bit_pairs)/28*100, 2), '%')\n",
    "    except:\n",
    "        print('Optimum Path Discovered: \\n', _candidate_sol.bin)\n",
    "        print('Fitness: 100 %')\n",
    "        TERMINATE = True\n",
    "#         sys.exit()\n",
    "    return matching_bit_pairs"
   ]
  },
  {
   "cell_type": "code",
   "execution_count": 15,
   "metadata": {},
   "outputs": [],
   "source": [
    "def expected_counts(cur_sol_matching_bit_pairs, prev_gen_count_of_cur_sol, \\\n",
    "                    all_sols_matching_bit_pairs_count):\n",
    "    \"\"\"\n",
    "    1. all_sols_matching_bit_pairs :: int -> is sum of matching bit pairs of all solutions.\n",
    "    2. Add-one smoothing is assumed. \n",
    "    3. n(i, t+1) = n(i, t) * f(i, t) / f'avg(t)\n",
    "    4. returns: a float, take ceiling or floor later. \n",
    "    \n",
    "    \"\"\"\n",
    "    total_possible_matching_pairs = 28\n",
    "    f_sol = cur_sol_matching_bit_pairs / total_possible_matching_pairs # \n",
    "    f_avg = (all_sols_matching_bit_pairs_count / total_possible_matching_pairs) / POPULATION_SIZE\n",
    "    _exp_counts = (f_sol / f_avg) * prev_gen_count_of_cur_sol\n",
    "    \n",
    "    return _exp_counts"
   ]
  },
  {
   "cell_type": "code",
   "execution_count": 16,
   "metadata": {},
   "outputs": [],
   "source": [
    "def append_copies(fittest_parents, POPULATION_SIZE, candidates):\n",
    "    parents = []\n",
    "    for elm in fittest_parents:\n",
    "        for i in range(elm[1]):\n",
    "            if len(parents) >= POPULATION_SIZE:\n",
    "                break\n",
    "            parents.append(candidates[elm[0]])\n",
    "    return parents"
   ]
  },
  {
   "cell_type": "code",
   "execution_count": 17,
   "metadata": {},
   "outputs": [],
   "source": [
    "def evaluate_candidates(candidates, Holy_BitString, POPULATION_SIZE): \n",
    "    '''\n",
    "        Additional Functions Used: 'round' converts to nearest int. \n",
    "        In 'cands_and_copies_count' Index 0 corresponds to 1st sol, 1 to 2nd, so on and so forth. \n",
    "        Optional functionality Not implemented: if more than half the pop is 0 in all_sols_matching_bit_pairs, add-one smooth. \n",
    "        \n",
    "    '''\n",
    "    all_cands_matching_bit_pairs = list(map(lambda cand: get_matching_bit_pairs(Holy_BitString,\\\n",
    "                                                                              cand), candidates))\n",
    "    if TERMINATE:\n",
    "        return\n",
    "    all_sols_matching_bit_pairs_count = sum(all_cands_matching_bit_pairs)\n",
    "    all_expected_counts = list(map(lambda bit_pairs: round(expected_counts(bit_pairs, 1, \\\n",
    "                                                        all_sols_matching_bit_pairs_count)), \\\n",
    "                                                           all_cands_matching_bit_pairs)) \n",
    "    cands_and_copies_count = Counter(dict(zip([x for x in range(0,POPULATION_SIZE)], \\\n",
    "                                                                all_expected_counts))) \n",
    "    fittest_parents = cands_and_copies_count.most_common(POPULATION_SIZE)\n",
    "    parents = append_copies(fittest_parents, POPULATION_SIZE, candidates)\n",
    "    return parents"
   ]
  },
  {
   "cell_type": "code",
   "execution_count": 18,
   "metadata": {},
   "outputs": [],
   "source": [
    "def select_parents(parents):\n",
    "    return tuple(zip(parents[0::2], parents[1::2])) # pairs of consecutive parents "
   ]
  },
  {
   "cell_type": "code",
   "execution_count": 19,
   "metadata": {},
   "outputs": [],
   "source": [
    "def recombine_pairs_of_parents(p1, p2, CHROMOSOME_LENGTH):\n",
    "    \"\"\"\n",
    "        p1, and p2 are 56 Bit strings \n",
    "        split at .6-.9 of 56 bits (CHROMOSOME_LENGTH). i.e. between 31-50 bits\n",
    "        \n",
    "    \"\"\"\n",
    "    split_point = random.randrange((int) (CHROMOSOME_LENGTH * .6), (int)(CHROMOSOME_LENGTH*.9))\n",
    "\n",
    "    p1 = BitStream(p1)\n",
    "    p2 = BitStream(p2)\n",
    "    p1[:split_point], p2[:split_point] = p2[:split_point], p1[:split_point]\n",
    "    \n",
    "    return p1, p2\n"
   ]
  },
  {
   "cell_type": "code",
   "execution_count": 20,
   "metadata": {},
   "outputs": [],
   "source": [
    " def mutate_offspring(p, POPULATION_SIZE, CHROMOSOME_LENGTH):\n",
    "    p = BitStream(p)\n",
    "    if len(p) > 0:\n",
    "        r = random.random()\n",
    "        if (r >= 1/CHROMOSOME_LENGTH and r <= 1/POPULATION_SIZE) or (r <= 1/CHROMOSOME_LENGTH and r >= 1/POPULATION_SIZE):  # either number could be bigger. \n",
    "            p[:1] = BitStream(bin=str((int)(p[:1].bin) ^ 1))\n",
    "        return p[:1] + mutate_offspring(p[1:],  POPULATION_SIZE, CHROMOSOME_LENGTH)\n",
    "    return []"
   ]
  },
  {
   "cell_type": "code",
   "execution_count": 26,
   "metadata": {},
   "outputs": [
    {
     "name": "stdout",
     "output_type": "stream",
     "text": [
      "Optimum Path Discovered: \n",
      " 01010101011001101101010111011001100101010101100101010101\n",
      "Fitness: 100 %\n"
     ]
    }
   ],
   "source": [
    "def genetic_alg(Holy_BitString, POPULATION_SIZE, CHROMOSOME_LENGTH):\n",
    "    solutions = generate_candidate_sols(POPULATION_SIZE)\n",
    "    parents = evaluate_candidates(solutions, Holy_BitString, POPULATION_SIZE)\n",
    "\n",
    "    \n",
    "    while(not TERMINATE):\n",
    "        pairs_of_parents = select_parents(parents)\n",
    "        recombinded_parents = list(chain(*map(lambda pair: recombine_pairs_of_parents(pair[0], pair[1], CHROMOSOME_LENGTH),\\\n",
    "                                                                                                    pairs_of_parents))) # chain does: convert into list of offspring not of tuples\n",
    "        mutated_offspring = list(map(lambda offspring: mutate_offspring(offspring, POPULATION_SIZE, \\\n",
    "                                                                        CHROMOSOME_LENGTH), recombinded_parents))\n",
    "        parents = evaluate_candidates(mutated_offspring, Holy_BitString, POPULATION_SIZE) # new parents (offspring)\n",
    "    \n",
    "\n",
    "POPULATION_SIZE = 64\n",
    "TERMINATE = False\n",
    "SHOW_FITNESS = False\n",
    "genetic_alg(Holy_BitString, POPULATION_SIZE, CHROMOSOME_LENGTH)\n",
    "    \n",
    "    "
   ]
  },
  {
   "cell_type": "code",
   "execution_count": 27,
   "metadata": {},
   "outputs": [],
   "source": [
    "def main():\n",
    "    Holy_BitString = '01010101011001101101010111011001100101010101100101010101'\n",
    "    Holy_BitString = ConstBitStream(bin = Holy_BitString)\n",
    "    POPULATION_SIZE = 64\n",
    "    CHROMOSOME_LENGTH = 56\n",
    "    _show_fitness = input('Do you want to see Fitness of each candidate solution? yes/no')\n",
    "    global SHOW_FITNESS\n",
    "    if _show_fitness in ['yes', 'y', '1']:\n",
    "        SHOW_FITNESS = True\n",
    "    genetic_alg(Holy_BitString, POPULATION_SIZE, CHROMOSOME_LENGTH)\n",
    "\n",
    "main()\n"
   ]
  },
  {
   "cell_type": "markdown",
   "metadata": {},
   "source": [
    "Fittest solutions have more copies "
   ]
  }
 ],
 "metadata": {
  "kernelspec": {
   "display_name": "Python 3",
   "language": "python",
   "name": "python3"
  },
  "language_info": {
   "codemirror_mode": {
    "name": "ipython",
    "version": 3
   },
   "file_extension": ".py",
   "mimetype": "text/x-python",
   "name": "python",
   "nbconvert_exporter": "python",
   "pygments_lexer": "ipython3",
   "version": "3.6.5"
  }
 },
 "nbformat": 4,
 "nbformat_minor": 2
}
